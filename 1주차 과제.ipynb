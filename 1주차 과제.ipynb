{
  "nbformat": 4,
  "nbformat_minor": 0,
  "metadata": {
    "colab": {
      "name": "Untitled0.ipynb",
      "provenance": [],
      "collapsed_sections": [],
      "authorship_tag": "ABX9TyNuxQzLzXbAMt1FJ9U4Df/W",
      "include_colab_link": true
    },
    "kernelspec": {
      "name": "python3",
      "display_name": "Python 3"
    }
  },
  "cells": [
    {
      "cell_type": "markdown",
      "metadata": {
        "id": "view-in-github",
        "colab_type": "text"
      },
      "source": [
        "<a href=\"https://colab.research.google.com/github/dk-lim/pythopia/blob/master/1%EC%A3%BC%EC%B0%A8%20%EA%B3%BC%EC%A0%9C.ipynb\" target=\"_parent\"><img src=\"https://colab.research.google.com/assets/colab-badge.svg\" alt=\"Open In Colab\"/></a>"
      ]
    },
    {
      "cell_type": "markdown",
      "metadata": {
        "id": "XExOYPK7Rh_W",
        "colab_type": "text"
      },
      "source": [
        "# **1주차 과제**\n",
        "\n",
        "\n",
        "*   4가지 분야의 기술(언어, 음성, 이미지, 자율주행)을 사용하는 인공지능 제품 및 서비스에 대한 분석\n",
        "\n",
        "---\n",
        "\n",
        "\n",
        "\n",
        "## 1.   언어  \n",
        "\n",
        "*   서비스명\n",
        "    + 네이버 Papago(NMT)\n",
        "\n",
        "*   개요\n",
        "    + NMT는 Neural Machine Translation(인공신경망 기반 기계번역)의 약어입니다. 파파고의 NMT 기술은 입력 문장을 문장벡터로 변환하는 신경망(encoder)과 문장벡터에서 번역하는 언어의 문장을 생성하는 신경망(decoder)를 대규모의 병렬 코퍼스부터 자동으로 학습합니다. 입력문장의 일부가 아니라 문장 전체 정보를 바탕으로 번역을 수행하기때문에 기존 SMT방식의 번역보다 더욱 정확하고 문장 맥락에 맞는 번역을 지원합니다.\n",
        "\n",
        "*   특징\n",
        "    + 다국어 언어 처리에 대한 네이버의 기술과 경험을 번역 엔진에 적용해 보다 정확한 번역 결과를 제공합니다. 네이버 서비스를 통해 축적해온 번역 품질에 대한 피드백들을 적극적으로 반영해 단순 통계에만 의존하는 기존 기술의 한계를 보완했습니다.\n",
        "\n",
        "    + 자연스러운 번역을 가능하게 하는 대규모의 학습 데이터를 보유하고 있습니다. 언어의 규칙을 효과적으로 파악하는 핵심 번역 기술을 강화하기 위해 품질 높은 학습 모델을 사용합니다.\n",
        "\n",
        "    + 웹 기반의 콘솔을 통해 쉽고 편리한 사용이 가능합니다. RESTful 형태로 지원되는 API를 통해 고객의 서비스에 번역 기능을 간단하게 적용할 수 있습니다.\n",
        "\n",
        "*   지원 언어\n",
        "    + 한국어(ko)-영어(en), 한국어(ko)-일본어(ja), 한국어(ko)-중국어 간체(zh-CN), 한국어(ko)-중국어 번체(zh-TW), 한국어(ko)-스페인어(es), 한국어(ko)-프랑스어(fr), 한국어(ko)-러시아어(ru), 한국어(ko)-베트남어(vi), 한국어(ko)-태국어(th), 한국어(ko)-인도네시아어(id), 한국어(ko)-독일어(de), 한국어(ko)-이탈리아어(it), 중국어 간체(zh-CN) - 중국어 번체(zh-TW), 중국어 간체(zh-CN) - 일본어(ja), 중국어 번체(zh-TW) - 일본어(ja), 영어(en)-일본어(ja), 영어(en)-중국어 간체(zh-CN), 영어(en)-중국어 번체(zh-TW), 영어(en)-프랑스어(fr)\n",
        "  \n",
        "\n",
        "## 2.   음성\n",
        "\n",
        "\n",
        "*   서비스명\n",
        "    + Clova Chatbot\n",
        "*   개요\n",
        "    + Chatbot은 Clova를 통해 사용자의 간단한 대화 요청이나 문의에 답변하는 서비스를 제공하는 Extension입니다.\n",
        "\n",
        "    + Extension은 음악, 쇼핑, 금융 등과 같은 서드파티 서비스나 집안의 IoT 기기 제어 등 사용자가 Clova를 통해 다양한 경험을 제공받을 수 있도록 Clova에 확장된 기능을 제공하는 웹 애플리케이션입니다. 주로 고객 센터로 자주 유입되는 고객 문의를 처리하거나 사용자와 간단히 대화하는 서비스를 chatbot으로 손쉽게 구현할 수 있습니다.\n",
        "\n",
        "*   특징\n",
        "    + Chatbot에서는 정해진 유형으로 대화가 수행되기 때문에 대화 모델이 비교적 간단합니다. 대화 모델은 사용자의 음성에서 인식된 요청을 Extension이 Clova에 전달하기 위해 정형화된 형식(JSON)으로 변환하는 규칙의 명세입니다.\n",
        "    + Chatbot의 소프트웨어 개발에 대한 부분은 Clova 플랫폼이 제공하기 때문에 별도의 소프트웨어를 개발하지 않아도 됩니다.\n",
        "    + 소프트웨어 개발자가 아니더라도 대화 모델을 만들어 Chatbot을 제공할 수 있으며, 시간과 비용이 많이 들지 않습니다.\n",
        "    ![대체 텍스트](https://developers.naver.com/proxyapi/rawgit/naver/clova-chatbot-user-guide/document/ko/Resources/Images/Clova_Chatbot_Extension_Concept_Diagram.png)\n",
        "\n",
        "*   동작 구조\n",
        "    + Clova는 클라이언트에서 입력된 사용자의 발화를 인식하고 사용자의 발화를 분석합니다. 분석된 발화가 chatbot이 처리할 내용이라면 Clova는 분석된 사용자의 질문 정보를 chatbot에 전달합니다. Chatbot은 미리 등록된 대화 모델을 참조해 어떤 대화인지 확인하며, 해당 대화에 작성해 놓은 답변을 Clova가 사용자에게 전달하도록 요청합니다.\n",
        "    ![대체 텍스트](https://developers.naver.com/proxyapi/rawgit/naver/clova-chatbot-user-guide/document/ko/Resources/Images/Clova_Chatbot_Extension_Operation_Structure.png)\n",
        "\n",
        "## 3.   이미지\n",
        "*   서비스명\n",
        "    + Clova Face Recognition (CFR)\n",
        "*   개요\n",
        "    + Clova Face Recognition API(이하 CFR API)는 이미지 데이터를 입력받은 후 얼굴 인식 결과를 JSON 형태로 반환합니다. CFR API는 이미지에 있는 얼굴 인식하여 분석 정보를 제공하는 얼굴 감지 API와 닮은 연예인을 알려주는 유명인 얼굴 인식 API를 제공합니다. CFR API는 HTTP 기반의 REST API 입니다.\n",
        "\n",
        "*   특징\n",
        "    + 입력된 비전 데이터를 통해 얼굴을 인식하거나 얼굴 감지를 이용한 애플리케이션을 만들 때 유용한 API입니다. 이미지 속의 얼굴과 가장 닮은 유명인을 찾거나, 얼굴의 윤곽과 눈/코/입 위치, 표정 값을 얻을 수 있습니다.\n",
        "    + 네이버가 보유한 대량의 이미지 DB를 통해 국내에서 가장 뛰어난 유명인 얼굴 인식과 정확한 얼굴 감지 기능을 제공합니다. 두 가지 기능을 통해 비전(Vision) 정보를 새로운 형태의 인터페이스로 사용할 수 있습니다.\n",
        "    + 인공지능 기술 중 하나인 머신 러닝(Meachine Learning)을 사용하여 지속적인 학습이 가능한 API입니다. 네이버 서비스에서 얻어지는 풍부한 데이터를 기반으로 점점 더 똑똑해지는 Clova Face Recognition 를 만나보세요.\n",
        "    + 웹 기반의 콘솔을 통해 쉽게 사용할 수 있습니다. RESTful 형태로 지원되는 API로 고객의 서비스에 얼굴 인식 및 얼굴 감지 기능을 간단히 적용할 수 있어 편리합니다.\n",
        "\n",
        "## 4.   자율주행\n",
        "\n",
        "*   서비스명\n",
        "    + 웨이모 자율주행 택시\n",
        "\n",
        "*   개요\n",
        "    + 구글 모기업 알파벳의 자율주행 자동차 부문인 웨이모가 시행중인 자율주행 택시 호출 서비스. 차량공유 앱(응용프로그램) 우버처럼 스마트폰으로 호출해 이용할 수 있다. 2018년 12월 5일 (현지시간) 미국 애리조나주 피닉스시 일대에서 이용자 400명을 대상으로 자율주행 택시 호출 서비스를 선보였다. 웨이모 차량은 운전자 개입없이 스스로 주행한다. 오작동에 대비해 엔지니어가 운전석에 앉아 상황을 모니터링하는 방식으로 운행한다.\n",
        "\n",
        "*   특징\n",
        "    + 자율주행 자동차는 5G 통신, AI, 빅데이터, 반도체 기술, 자동차 제조기술 등 다양한 분야의 최고 기술이 접목된 첨단 기술의 집합체가 될 가능성이 높다. 첨단 기술의 집합체라는 점에서 자율주행 자동차는 전통적인 자동차 기업뿐만 아니라 글로벌 공룡 IT 기업들도 눈독을 들이는 영역이 되었다. 구글은 오래전부터 자율주행 자동차 개발을 위해 소프트웨어 분야에 집중 투자해았고, 그 결과 구글 웨이모는 현재 세계에서 가장 뛰어난 자율주행 자동차 기술을 보유하고 있다. \n",
        "    + 구글은 기술적인 우위를 바탕으로 자율주행 자동차 시장을 선점하기 위해 미국 디트로이트에 자율주행 자동차 양산을 위한 공장을 설립한다고 밝혔고, 2018년 12월에는 미국 애리조나 주에서 무인 택시 서비스를 선보이기도 했다. 애플 역시 프로젝트 타이탄(Project Titan)이라는 자율주행 자동차 개발을 진행 중인 것으로 알려져 있으며, 연구/개발 인력을 증원하기 위해 미국의 전기차 기업인 테슬라의 우수 엔지니어를 대거 스카우트했는데, 이 때문에 애플과 테슬라 두 회사 사이에 갈등이 빚어지기도 했다.\n"
      ]
    }
  ]
}